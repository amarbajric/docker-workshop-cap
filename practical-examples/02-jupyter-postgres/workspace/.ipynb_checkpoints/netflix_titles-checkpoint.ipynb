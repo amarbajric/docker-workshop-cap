{
 "cells": [
  {
   "cell_type": "code",
   "execution_count": null,
   "id": "16698397-d3da-423f-aa32-521ce761d2f9",
   "metadata": {},
   "outputs": [],
   "source": [
    "pip install psycopg2-binary"
   ]
  },
  {
   "cell_type": "code",
   "execution_count": null,
   "id": "b7d38e95-3c15-4dd6-9f45-f17029996e72",
   "metadata": {},
   "outputs": [],
   "source": [
    "from pyspark.sql import SparkSession, DataFrameReader\n",
    "import pyspark.sql.functions as f\n",
    "from pyspark.sql.types import IntegerType\n",
    "import psycopg2\n",
    "\n",
    "# Spark session & context\n",
    "spark = SparkSession.builder.master(\"local\").getOrCreate()\n",
    "sc = spark.sparkContext\n",
    "\n",
    "# Set legacy time parser policy to legacy for convenience reasons\n",
    "spark.conf.set(\"spark.sql.legacy.timeParserPolicy\",\"LEGACY\")"
   ]
  },
  {
   "cell_type": "code",
   "execution_count": null,
   "id": "7de84b3a-6f1d-405b-b4e9-4155b44b7204",
   "metadata": {},
   "outputs": [],
   "source": [
    "df = spark.read.csv(\"data/netflix_titles.csv\", inferSchema=True, header=True)"
   ]
  },
  {
   "cell_type": "code",
   "execution_count": null,
   "id": "b264480b-7e53-43be-ab9f-30753696c0c8",
   "metadata": {},
   "outputs": [],
   "source": [
    "# format date-like columns to actual dates and year format\n",
    "df = df.withColumn('date_added', f.to_date(f.unix_timestamp(df.date_added, 'MMMM dd, yyyy').cast('timestamp'))) \\\n",
    "       .withColumn('release_year', f.to_date(f.unix_timestamp(df.release_year, 'yyyy').cast('timestamp')))"
   ]
  },
  {
   "cell_type": "code",
   "execution_count": null,
   "id": "a6a9ad7f-16c1-4305-8e6e-29def863c951",
   "metadata": {},
   "outputs": [],
   "source": [
    "df.limit(3).toPandas()"
   ]
  },
  {
   "cell_type": "code",
   "execution_count": null,
   "id": "f48251a0-86ce-4cd9-9c01-79bc1d3c64f9",
   "metadata": {},
   "outputs": [],
   "source": [
    "movie_df = df.filter(f.col(\"type\") == \"Movie\")\n",
    "movie_df = movie_df.withColumn(\"duration\", f.regexp_extract(\"duration\", '\\s*(\\d*)\\s*min', 1).cast(IntegerType()))\n",
    "\n",
    "filtered_movies = movie_df.filter((f.col(\"duration\") < 190) & (f.col(\"release_year\") > '2015-01-01'))"
   ]
  },
  {
   "cell_type": "code",
   "execution_count": null,
   "id": "4b03ad5f-013f-453e-919f-b686ac278b88",
   "metadata": {},
   "outputs": [],
   "source": [
    "filtered_movies.toPandas()"
   ]
  },
  {
   "cell_type": "code",
   "execution_count": null,
   "id": "bc92000e-169b-4a4c-ad02-ecfdf9287228",
   "metadata": {},
   "outputs": [],
   "source": [
    "# connect to postgres database\n",
    "db_conn = psycopg2.connect(database=\"netflix\", host=\"postgres\", user=\"postgres\", password=\"postgres\", port=\"5432\")\n",
    "cursor = db_conn.cursor()"
   ]
  },
  {
   "cell_type": "code",
   "execution_count": null,
   "id": "7b85fcdd-ecd3-4750-a9ef-e40651fca6e1",
   "metadata": {},
   "outputs": [],
   "source": [
    "movies = filtered_movies.select(\"title\",\"director\",\"country\", \"release_year\", \"duration\", \"description\").collect()"
   ]
  },
  {
   "cell_type": "code",
   "execution_count": null,
   "id": "13c2cbca-a83f-497e-b5c8-f89b11feb756",
   "metadata": {},
   "outputs": [],
   "source": [
    "for movie in movies:\n",
    "    sanitized_movie_description = movie.description.replace(\"'\",\"\")\n",
    "    cursor.execute(\"INSERT INTO movies(title, director, country, release_year, duration_minutes, description) VALUES (%s, %s, %s, %s::DATE, %s, %s)\", (movie.title, movie.director or 'None', movie.country or 'None', movie.release_year, movie.duration, movie.description))"
   ]
  },
  {
   "cell_type": "code",
   "execution_count": null,
   "id": "2059adef-1880-4b29-a863-b29612eae5e6",
   "metadata": {},
   "outputs": [],
   "source": [
    "db_conn.commit()"
   ]
  },
  {
   "cell_type": "code",
   "execution_count": null,
   "id": "0c11d4d1-b22d-494f-8079-0a38a7c2746e",
   "metadata": {},
   "outputs": [],
   "source": [
    "# fetch inserted data\n",
    "cursor.execute(\"SELECT * FROM movies;\")\n",
    "cursor.fetchone()"
   ]
  },
  {
   "cell_type": "code",
   "execution_count": null,
   "id": "e19f4906-bb94-4621-9897-932d8024eb2e",
   "metadata": {},
   "outputs": [],
   "source": []
  }
 ],
 "metadata": {
  "kernelspec": {
   "display_name": "Python 3 (ipykernel)",
   "language": "python",
   "name": "python3"
  },
  "language_info": {
   "codemirror_mode": {
    "name": "ipython",
    "version": 3
   },
   "file_extension": ".py",
   "mimetype": "text/x-python",
   "name": "python",
   "nbconvert_exporter": "python",
   "pygments_lexer": "ipython3",
   "version": "3.9.7"
  }
 },
 "nbformat": 4,
 "nbformat_minor": 5
}
